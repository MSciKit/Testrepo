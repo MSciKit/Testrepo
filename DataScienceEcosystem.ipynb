{
 "cells": [
  {
   "cell_type": "markdown",
   "id": "146e60ba",
   "metadata": {},
   "source": [
    "# Data Science Tools and Ecosystem"
   ]
  },
  {
   "cell_type": "markdown",
   "id": "dcb20550",
   "metadata": {},
   "source": [
    "In this notebook, Data Science Tools and Ecosystem are summarized."
   ]
  },
  {
   "cell_type": "markdown",
   "id": "8068ede3",
   "metadata": {},
   "source": [
    "**Objectives**\n",
    "\n",
    "List popular languages for Data Science\n",
    "- Python\n",
    "- R\n",
    "- SQL\n",
    "- Julia"
   ]
  },
  {
   "cell_type": "markdown",
   "id": "f2255ac9",
   "metadata": {},
   "source": [
    "## Author \n",
    "\n",
    "Manjusha Rai"
   ]
  },
  {
   "cell_type": "code",
   "execution_count": null,
   "id": "2eb78867",
   "metadata": {},
   "outputs": [],
   "source": []
  }
 ],
 "metadata": {
  "kernelspec": {
   "display_name": "Python 3 (ipykernel)",
   "language": "python",
   "name": "python3"
  },
  "language_info": {
   "codemirror_mode": {
    "name": "ipython",
    "version": 3
   },
   "file_extension": ".py",
   "mimetype": "text/x-python",
   "name": "python",
   "nbconvert_exporter": "python",
   "pygments_lexer": "ipython3",
   "version": "3.8.8"
  }
 },
 "nbformat": 4,
 "nbformat_minor": 5
}
